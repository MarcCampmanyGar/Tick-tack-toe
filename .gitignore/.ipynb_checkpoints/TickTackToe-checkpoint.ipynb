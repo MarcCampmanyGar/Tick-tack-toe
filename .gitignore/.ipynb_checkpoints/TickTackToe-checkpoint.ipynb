{
 "cells": [
  {
   "cell_type": "code",
   "execution_count": 8,
   "metadata": {},
   "outputs": [],
   "source": [
    "game = [[1, 0, 0],\n",
    "        [1, 2, 2],\n",
    "        [1, 1, 0],]"
   ]
  },
  {
   "cell_type": "code",
   "execution_count": 3,
   "metadata": {},
   "outputs": [
    {
     "name": "stdout",
     "output_type": "stream",
     "text": [
      "a  b  c\n",
      "[0, 0, 0]\n",
      "[0, 0, 0]\n",
      "[0, 0, 0]\n"
     ]
    }
   ],
   "source": [
    "print (\"a  b  c\")\n",
    "for row in game:\n",
    "        print(row)"
   ]
  },
  {
   "cell_type": "code",
   "execution_count": 4,
   "metadata": {},
   "outputs": [
    {
     "name": "stdout",
     "output_type": "stream",
     "text": [
      "[(0, [0, 0, 0]), (1, [0, 0, 0]), (2, [0, 0, 0])]\n"
     ]
    }
   ],
   "source": [
    "listgame = enumerate (game)\n",
    "print(list(listgame))"
   ]
  },
  {
   "cell_type": "code",
   "execution_count": 7,
   "metadata": {},
   "outputs": [
    {
     "name": "stdout",
     "output_type": "stream",
     "text": [
      "   a  b  c\n",
      "0 [0, 0, 0]\n",
      "1 [0, 0, 0]\n",
      "2 [0, 0, 0]\n"
     ]
    }
   ],
   "source": [
    "print (\"  a  b  c\")\n",
    "for count,row in enumerate(game):\n",
    "        print(count,row)"
   ]
  },
  {
   "cell_type": "code",
   "execution_count": 26,
   "metadata": {},
   "outputs": [],
   "source": [
    "def game_board():\n",
    "    print (\"   0  1  2\")\n",
    "    for count,row in enumerate(game):\n",
    "            print(count,row)\n",
    "     "
   ]
  },
  {
   "cell_type": "code",
   "execution_count": 27,
   "metadata": {},
   "outputs": [
    {
     "name": "stdout",
     "output_type": "stream",
     "text": [
      "   0  1  2\n",
      "0 [0, 1, 0]\n",
      "1 [0, 0, 0]\n",
      "2 [0, 0, 0]\n"
     ]
    }
   ],
   "source": [
    "game_board()"
   ]
  },
  {
   "cell_type": "code",
   "execution_count": 28,
   "metadata": {},
   "outputs": [
    {
     "name": "stdout",
     "output_type": "stream",
     "text": [
      "   0  1  2\n",
      "0 [0, 1, 0]\n",
      "1 [0, 0, 0]\n",
      "2 [0, 0, 0]\n"
     ]
    }
   ],
   "source": [
    "game[0][1] = 1\n",
    "game_board()"
   ]
  },
  {
   "cell_type": "code",
   "execution_count": 29,
   "metadata": {},
   "outputs": [],
   "source": [
    "def game_board(player=0, row=0, column=0):\n",
    "    print (\"   0  1  2\")\n",
    "    game[row][column] = player\n",
    "    for count,row in enumerate(game):\n",
    "            print(count,row)"
   ]
  },
  {
   "cell_type": "code",
   "execution_count": 30,
   "metadata": {},
   "outputs": [
    {
     "name": "stdout",
     "output_type": "stream",
     "text": [
      "   0  1  2\n",
      "0 [0, 1, 0]\n",
      "1 [0, 0, 0]\n",
      "2 [0, 0, 8]\n"
     ]
    }
   ],
   "source": [
    "game_board (8,2,2)"
   ]
  },
  {
   "cell_type": "code",
   "execution_count": 31,
   "metadata": {},
   "outputs": [],
   "source": [
    "def game_board(player=0, row=0, column=0):\n",
    "    print (\"   0  1  2\")\n",
    "    if player != 0:\n",
    "        game[row][column] = player\n",
    "        for count,row in enumerate(game):\n",
    "                print(count,row)"
   ]
  },
  {
   "cell_type": "code",
   "execution_count": 34,
   "metadata": {},
   "outputs": [],
   "source": [
    "def game_board(player=0, row=0, column=0, just_display=False):\n",
    "    print (\"   0  1  2\")\n",
    "    if not just_display:\n",
    "        game[row][column] = player\n",
    "        for count,row in enumerate(game):\n",
    "                print(count,row)"
   ]
  },
  {
   "cell_type": "code",
   "execution_count": 36,
   "metadata": {},
   "outputs": [
    {
     "name": "stdout",
     "output_type": "stream",
     "text": [
      "1\n",
      "2\n",
      "[1]\n",
      "[2]\n",
      "[2]\n"
     ]
    }
   ],
   "source": [
    "x = 1\n",
    "def test():\n",
    "    x = 2\n",
    "test()  #x=1\n",
    "print(x)\n",
    "\n",
    "\n",
    "x = 1\n",
    "def test():\n",
    "    global x\n",
    "    x = 2\n",
    "test()  #x=2\n",
    "print(x)\n",
    "\n",
    "\n",
    "x = [1]\n",
    "def test():\n",
    "    x = [2]\n",
    "test()\n",
    "print(x)\n",
    "\n",
    "\n",
    "x = [1]\n",
    "def test():\n",
    "    global x\n",
    "    x = [2]\n",
    "test()\n",
    "print(x)\n",
    "\n",
    "\n",
    "x = [1]\n",
    "def test():\n",
    "    x[0] = 2\n",
    "test() #x=2\n",
    "print(x)"
   ]
  },
  {
   "cell_type": "code",
   "execution_count": 60,
   "metadata": {},
   "outputs": [],
   "source": [
    "def game_board(game_map, player=0, row=0, column=0, just_display=False):\n",
    "    try:\n",
    "        print (\"   0  1  2\")\n",
    "        if not just_display:\n",
    "            game_map[row][column] = player\n",
    "        for count,row in enumerate(game_map):\n",
    "                    #enumerate fa [(0, 'bread'), (1, 'milk'), (2, 'butter')] posició de cada element\n",
    "                    print(count,row)\n",
    "        return game_map\n",
    "    except IndexError as e:\n",
    "        print ( \"Error: make sure  you input column/row as 0, 1 or 2\", e)\n",
    "    except Exception as e:\n",
    "        print(\"Something went terribly wrong\", e)"
   ]
  },
  {
   "cell_type": "code",
   "execution_count": 61,
   "metadata": {},
   "outputs": [
    {
     "name": "stdout",
     "output_type": "stream",
     "text": [
      "   0  1  2\n",
      "0 [0, 0, 0]\n",
      "1 [0, 0, 0]\n",
      "2 [0, 5, 0]\n",
      "   0  1  2\n",
      "Something went terribly wrong 'function' object is not subscriptable\n"
     ]
    }
   ],
   "source": [
    "game = game_board(game, just_display=True)\n",
    "game = game_board(game_board, player=5, row=2, column=1)"
   ]
  },
  {
   "cell_type": "code",
   "execution_count": 4,
   "metadata": {},
   "outputs": [],
   "source": [
    "#Mirem si hi ha guanyador horitzontal\n",
    "\n",
    "def win(current_game):\n",
    "        for row in game:\n",
    "            print (row)\n",
    "            if row.count(row[0]) == len(row) and row[0] != 0:\n",
    "                #count retorna quants cops es repeteix a la llista (per row en aquest cas) el valor preguntat\n",
    "                #len diu quants elements hi ha a la llista\n",
    "                #per tant revisem només el primer element de cada columna i si es repeteix a la row el mateix nombre de cops que la llargada de la row, ja tenim un match\n",
    "                print (\"Winner\")"
   ]
  },
  {
   "cell_type": "code",
   "execution_count": 13,
   "metadata": {},
   "outputs": [
    {
     "name": "stdout",
     "output_type": "stream",
     "text": [
      "[1, 0, 0]\n",
      "[2, 2, 2]\n",
      "Winner\n",
      "[1, 1, 0]\n"
     ]
    }
   ],
   "source": [
    "game = [[1, 0, 0],\n",
    "        [2, 2, 2],\n",
    "        [1, 1, 0],]\n",
    "\n",
    "win (game)"
   ]
  },
  {
   "cell_type": "code",
   "execution_count": 12,
   "metadata": {},
   "outputs": [
    {
     "name": "stdout",
     "output_type": "stream",
     "text": [
      "[1]\n",
      "[1, 1]\n",
      "[1, 1, 1]\n",
      "MF Winner\n",
      "[0]\n",
      "[0, 2]\n",
      "[0, 2, 1]\n",
      "[0]\n",
      "[0, 2]\n",
      "[0, 2, 0]\n"
     ]
    }
   ],
   "source": [
    "#Mirem si hi ha guanyador vertical-----\n",
    "\n",
    "game = [[1, 0, 0],\n",
    "        [1, 2, 2],\n",
    "        [1, 1, 0],]\n",
    "\n",
    "for col in range(len(game)):\n",
    "    #range et torna llista d'elements fins un num. Ex range(3) et torna 0, 1, 2. Per tant si fem el range del\n",
    "    #len de la columna (ja que és quadrat) tindrem el index per cada una\n",
    "    check = []\n",
    "    #llista buida per posar els elements de cada columna en ella i fer la mateixa validació que per a les files\n",
    "    \n",
    "    for row in  game:\n",
    "        check.append(row[col])\n",
    "        print(check)\n",
    "        \n",
    "    if check.count(check[0]) == len(check) and check[0] != 0:\n",
    "        print (\"MF Winner\")"
   ]
  },
  {
   "cell_type": "code",
   "execution_count": 20,
   "metadata": {},
   "outputs": [],
   "source": [
    "#Mirar si hi ha guanyador diagonal---\n",
    "\n",
    "#diagonal [0][2], [1][1], [2][0]\n",
    "diags = []\n",
    "for col, row in enumerate(reversed(range(len(game)))):\n",
    "    diags.append(game[row][col])\n",
    "    \n",
    "#diagonals [0],[0], [1][1], [2][2]\n",
    "    \n",
    "diags = []\n",
    "for ix in range(len(game)):\n",
    "    diags.append(game[ix][ix])"
   ]
  },
  {
   "cell_type": "code",
   "execution_count": 4,
   "metadata": {},
   "outputs": [
    {
     "name": "stdin",
     "output_type": "stream",
     "text": [
      "What size game of tic tac toe?  3\n"
     ]
    },
    {
     "name": "stdout",
     "output_type": "stream",
     "text": [
      "  0  1  2\n",
      "0 [0, 0, 0]\n",
      "1 [0, 0, 0]\n",
      "2 [0, 0, 0]\n",
      "Current player: 1\n"
     ]
    },
    {
     "name": "stdin",
     "output_type": "stream",
     "text": [
      "What column do you want to play? (0, 1 or 2):  1\n",
      "What row do you want to play? (0, 1 or 2):  1\n"
     ]
    },
    {
     "name": "stdout",
     "output_type": "stream",
     "text": [
      "  0  1  2\n",
      "0 [0, 0, 0]\n",
      "1 [0, 1, 0]\n",
      "2 [0, 0, 0]\n",
      "Current player: 2\n"
     ]
    },
    {
     "name": "stdin",
     "output_type": "stream",
     "text": [
      "What column do you want to play? (0, 1 or 2):  2\n",
      "What row do you want to play? (0, 1 or 2):  2\n"
     ]
    },
    {
     "name": "stdout",
     "output_type": "stream",
     "text": [
      "  0  1  2\n",
      "0 [0, 0, 0]\n",
      "1 [0, 1, 0]\n",
      "2 [0, 0, 2]\n",
      "Current player: 1\n"
     ]
    },
    {
     "name": "stdin",
     "output_type": "stream",
     "text": [
      "What column do you want to play? (0, 1 or 2):  2\n",
      "What row do you want to play? (0, 1 or 2):  1\n"
     ]
    },
    {
     "name": "stdout",
     "output_type": "stream",
     "text": [
      "  0  1  2\n",
      "0 [0, 0, 0]\n",
      "1 [0, 1, 1]\n",
      "2 [0, 0, 2]\n",
      "Current player: 2\n"
     ]
    },
    {
     "name": "stdin",
     "output_type": "stream",
     "text": [
      "What column do you want to play? (0, 1 or 2):  0\n",
      "What row do you want to play? (0, 1 or 2):  1\n"
     ]
    },
    {
     "name": "stdout",
     "output_type": "stream",
     "text": [
      "  0  1  2\n",
      "0 [0, 0, 0]\n",
      "1 [2, 1, 1]\n",
      "2 [0, 0, 2]\n",
      "Current player: 1\n"
     ]
    },
    {
     "name": "stdin",
     "output_type": "stream",
     "text": [
      "What column do you want to play? (0, 1 or 2):  0\n",
      "What row do you want to play? (0, 1 or 2):  2\n"
     ]
    },
    {
     "name": "stdout",
     "output_type": "stream",
     "text": [
      "  0  1  2\n",
      "0 [0, 0, 0]\n",
      "1 [2, 1, 1]\n",
      "2 [1, 0, 2]\n",
      "Current player: 2\n"
     ]
    },
    {
     "name": "stdin",
     "output_type": "stream",
     "text": [
      "What column do you want to play? (0, 1 or 2):  2\n",
      "What row do you want to play? (0, 1 or 2):  0\n"
     ]
    },
    {
     "name": "stdout",
     "output_type": "stream",
     "text": [
      "  0  1  2\n",
      "0 [0, 0, 2]\n",
      "1 [2, 1, 1]\n",
      "2 [1, 0, 2]\n",
      "Current player: 1\n"
     ]
    },
    {
     "name": "stdin",
     "output_type": "stream",
     "text": [
      "What column do you want to play? (0, 1 or 2):  1\n",
      "What row do you want to play? (0, 1 or 2):  0\n"
     ]
    },
    {
     "name": "stdout",
     "output_type": "stream",
     "text": [
      "  0  1  2\n",
      "0 [0, 1, 2]\n",
      "1 [2, 1, 1]\n",
      "2 [1, 0, 2]\n",
      "Current player: 2\n"
     ]
    },
    {
     "name": "stdin",
     "output_type": "stream",
     "text": [
      "What column do you want to play? (0, 1 or 2):  0\n",
      "What row do you want to play? (0, 1 or 2):  0\n"
     ]
    },
    {
     "name": "stdout",
     "output_type": "stream",
     "text": [
      "  0  1  2\n",
      "0 [2, 1, 2]\n",
      "1 [2, 1, 1]\n",
      "2 [1, 0, 2]\n",
      "Current player: 1\n"
     ]
    },
    {
     "name": "stdin",
     "output_type": "stream",
     "text": [
      "What column do you want to play? (0, 1 or 2):  1\n",
      "What row do you want to play? (0, 1 or 2):  2\n"
     ]
    },
    {
     "name": "stdout",
     "output_type": "stream",
     "text": [
      "  0  1  2\n",
      "0 [2, 1, 2]\n",
      "1 [2, 1, 1]\n",
      "2 [1, 1, 2]\n",
      "Player 1 is the winner vertically (|)!\n"
     ]
    },
    {
     "name": "stdin",
     "output_type": "stream",
     "text": [
      "Game is over. Would you like to play again? (y/n):  n\n"
     ]
    },
    {
     "name": "stdout",
     "output_type": "stream",
     "text": [
      "Byeee\n"
     ]
    }
   ],
   "source": [
    "import itertools\n",
    "\n",
    "def win(current_game):\n",
    "    \n",
    "    def all_same(l):\n",
    "        if l.count(l[0]) == len(l) and l[0] != 0:\n",
    "            return True\n",
    "        else:\n",
    "            return False\n",
    "        \n",
    "    #horitzontal\n",
    "    for row in game:\n",
    "        if all_same(row):\n",
    "            print (f\"Player {row[0]} is the winner horizontally (-)!\")\n",
    "            return True\n",
    "\n",
    "    #vertical\n",
    "    for col in range(len(game)):\n",
    "        check = []\n",
    "        for row in  game:\n",
    "            check.append(row[col])\n",
    "        if all_same(check):\n",
    "            print (f\"Player {check[0]} is the winner vertically (|)!\")\n",
    "            return True\n",
    "\n",
    "    #Diagonal\n",
    "    diags = []\n",
    "    for col, row in enumerate(reversed(range(len(game)))):\n",
    "        diags.append(game[row][col])\n",
    "    if all_same(diags):\n",
    "        print (f\"Player {diags[0]} is the winner diagonally (/)!\")\n",
    "        return True\n",
    "\n",
    "    diags = []\n",
    "    for ix in range(len(game)):\n",
    "        diags.append(game[ix][ix])\n",
    "    if all_same(diags):\n",
    "        print (f\"Player {diags[0]} is the winner diagonally (\\\\)!\")    \n",
    "        return True\n",
    "    \n",
    "    return False\n",
    "            \n",
    "def game_board(game_map, player=0, row=0, column=0, just_display=False):\n",
    "    try:\n",
    "        if game_map[row][column] != 0:\n",
    "            print(\"position ocuppied already, try again\")\n",
    "            return game_map, False\n",
    "        print(\"  \"+\"  \".join([str(i) for i in range(len(game_map))]))\n",
    "        if not just_display:\n",
    "            game_map[row][column] = player\n",
    "        for count,row in enumerate(game_map):\n",
    "                    print(count,row)\n",
    "        return game_map, True\n",
    "    \n",
    "    except IndexError as e:\n",
    "        print ( \"Error: make sure  you input column/row as 0, 1 or 2\", e)\n",
    "        return game_map, False\n",
    "    \n",
    "    except Exception as e:\n",
    "        print(\"Something went terribly wrong\", e)\n",
    "        return game_map, False\n",
    "        \n",
    "play = True\n",
    "players =  [1, 2]\n",
    "while play:\n",
    "    game_size = int(input(\"What size game of tic tac toe? \"))\n",
    "    game = [[0 for i in range(game_size)] for i in range(game_size)]\n",
    "        \n",
    "    game_won = False\n",
    "    game, _ = game_board(game, just_display=True)\n",
    "    player_choice = itertools.cycle([1,2])\n",
    "    while not game_won:\n",
    "        current_player = next(player_choice)\n",
    "        print (f\"Current player: {current_player}\")\n",
    "        played = False\n",
    "        \n",
    "        while not played:\n",
    "            column_choice = int(input(\"What column do you want to play? (0, 1 or 2): \"))\n",
    "            row_choice = int(input(\"What row do you want to play? (0, 1 or 2): \"))\n",
    "            game, played = game_board(game, current_player, row_choice, column_choice)\n",
    "            \n",
    "        if win(game):\n",
    "            game_won =  True\n",
    "            again = input(\"Game is over. Would you like to play again? (y/n): \")\n",
    "            if again.lower() == \"y\":\n",
    "                print(\"Restarting\")\n",
    "            elif again.lower() == \"n\":\n",
    "                print(\"Byeee\")\n",
    "                play = False\n",
    "            else:\n",
    "                print(\"not a valid answer\")\n",
    "                play = False"
   ]
  },
  {
   "cell_type": "code",
   "execution_count": null,
   "metadata": {},
   "outputs": [],
   "source": []
  }
 ],
 "metadata": {
  "kernelspec": {
   "display_name": "Python 3",
   "language": "python",
   "name": "python3"
  },
  "language_info": {
   "codemirror_mode": {
    "name": "ipython",
    "version": 3
   },
   "file_extension": ".py",
   "mimetype": "text/x-python",
   "name": "python",
   "nbconvert_exporter": "python",
   "pygments_lexer": "ipython3",
   "version": "3.8.3"
  }
 },
 "nbformat": 4,
 "nbformat_minor": 4
}
